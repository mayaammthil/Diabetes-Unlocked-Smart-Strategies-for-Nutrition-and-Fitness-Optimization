{
  "nbformat": 4,
  "nbformat_minor": 0,
  "metadata": {
    "colab": {
      "provenance": []
    },
    "kernelspec": {
      "name": "python3",
      "display_name": "Python 3"
    },
    "language_info": {
      "name": "python"
    }
  },
  "cells": [
    {
      "cell_type": "code",
      "execution_count": null,
      "metadata": {
        "colab": {
          "base_uri": "https://localhost:8080/"
        },
        "id": "aj0OY0g52NqL",
        "outputId": "9c29fcc2-a0f4-49f6-816c-f890598f1a49"
      },
      "outputs": [
        {
          "output_type": "stream",
          "name": "stdout",
          "text": [
            "Model loaded successfully!\n"
          ]
        }
      ],
      "source": [
        "import joblib\n",
        "\n",
        "# Load the saved model\n",
        "gb_classifier = joblib.load('/content/gb_classifier_DiabetesUnlocked_model.joblib')\n",
        "print(\"Model loaded successfully!\")"
      ]
    },
    {
      "cell_type": "markdown",
      "source": [
        "The code efficiently restores a trained Gradient Boosting model from storage using joblib, enabling rapid model deployment and reuse without retraining, which is ideal for production environments or follow-up analyses."
      ],
      "metadata": {
        "id": "sGYORy1ZzGwH"
      }
    },
    {
      "cell_type": "code",
      "source": [
        "def get_user_input():\n",
        "    # Helper to handle valid integer input with constraints\n",
        "    def get_int_input(prompt, positive_only=True):\n",
        "        while True:\n",
        "            try:\n",
        "                value = int(input(prompt))\n",
        "                if positive_only and value < 0:\n",
        "                    print(\"Please enter a positive integer.\")\n",
        "                    continue\n",
        "                return value\n",
        "            except ValueError:\n",
        "                print(\"Please enter a valid integer.\")\n",
        "\n",
        "    # Collect inputs with necessary conversions\n",
        "    age = get_int_input(\"Enter the value for Age: \")\n",
        "    weight = get_int_input(\"Enter your weight in kg: \")\n",
        "    height = float(input(\"Enter your height in cm: \"))\n",
        "    physhlth = abs(get_int_input(\"Enter the value for PhysHlth (positive integer): \", positive_only=False))\n",
        "    menthlth = abs(get_int_input(\"Enter the value for MentHlth (positive integer): \", positive_only=False))\n",
        "    highbp = get_int_input(\"Enter the value for HighBP (0 or 1): \", positive_only=False)\n",
        "    smoker = get_int_input(\"Enter the value for Smoker (0 or 1): \", positive_only=False)\n",
        "    fruits = get_int_input(\"Enter the value for Fruits (0 or 1): \", positive_only=False)\n",
        "    veggies = get_int_input(\"Enter the value for Veggies (0 or 1): \", positive_only=False)\n",
        "    sex = get_int_input(\"Enter the value for Sex (0 for Male, 1 for Female): \", positive_only=False)\n",
        "    highchol = get_int_input(\"Enter the value for HighChol (0 or 1): \", positive_only=False)\n",
        "\n",
        "    # Calculate BMI\n",
        "    bmi = weight / (height / 100) ** 2\n",
        "\n",
        "    # Calculate BMR based on gender\n",
        "    if sex == 0:  # Male\n",
        "        bmr = 10 * weight + 6.25 * height - 5 * age + 5\n",
        "    else:  # Female\n",
        "        bmr = 10 * weight + 6.25 * height - 5 * age - 161\n",
        "\n",
        "    # Return user features excluding height and weight\n",
        "    return [age, bmi, bmr, physhlth, menthlth, highbp, smoker, fruits, veggies, sex, highchol]\n",
        "\n",
        "\n"
      ],
      "metadata": {
        "id": "7BKr0_l97pwh"
      },
      "execution_count": null,
      "outputs": []
    },
    {
      "cell_type": "markdown",
      "source": [
        "\n",
        "This code defines a helper function, get_user_input(), designed to handle integer inputs with specific constraints, such as allowing only positive integers. get_user_input() Function: Main function that could collect user inputs.\n",
        "\n",
        "get_int_input(prompt, positive_only=True): A nested helper function within get_user_input() that:\n",
        "\n",
        "Takes a prompt message and an optional flag, positive_only, which, when set to True, restricts the input to positive integers.\n",
        "Continuously prompts the user until they enter a valid integer (and a positive one if positive_only is True), using try-except to handle invalid entries gracefully.\n",
        "In summary, get_user_input() is designed to gather and validate integer inputs, ensuring they meet specified conditions such as positivity, making it robust for constrained integer data collection.\n",
        "\n",
        "\n",
        "\n",
        "\n",
        "\n",
        "\n"
      ],
      "metadata": {
        "id": "Iz7Hk0YezUig"
      }
    },
    {
      "cell_type": "code",
      "source": [
        "def suggest_health_advice(prediction, user_features):\n",
        "    # Extract only the first 10 elements from user_features\n",
        "    bmi, age, phys_hlth, ment_hlth, highbp, smoker, fruits, veggies, sex, highchol = user_features[:10]\n",
        "\n",
        "    # Diet recommendations\n",
        "    if prediction == 1:  # Diabetic\n",
        "        print(\"Diet Recommendation: High in fiber, low in sugar and refined carbs.\")\n",
        "        if fruits == 0:\n",
        "            print(\"- Increase fruit intake, focusing on low-glycemic fruits like berries.\")\n",
        "        if veggies == 0:\n",
        "            print(\"- Increase intake of leafy greens and non-starchy vegetables.\")\n",
        "        if highchol == 1:\n",
        "            print(\"- Limit saturated fats and include foods like nuts, seeds, and fish for healthy fats.\")\n",
        "        if smoker == 1:\n",
        "            print(\"- Consider quitting smoking to reduce health risks.\")\n",
        "    else:  # Non-Diabetic\n",
        "        print(\"Diet Recommendation: Balanced diet focusing on whole foods.\")\n",
        "        if fruits == 0 or veggies == 0:\n",
        "            print(\"- Include more fruits and vegetables daily.\")\n",
        "        if highchol == 1:\n",
        "            print(\"- Watch saturated fats and add fiber-rich foods.\")\n",
        "        if smoker == 1:\n",
        "            print(\"- Reducing or quitting smoking can improve overall health.\")\n",
        "\n",
        "    # Exercise recommendations\n",
        "    suggest_exercise(bmi, age, phys_hlth, ment_hlth, highbp, smoker, sex, highchol)\n",
        "\n",
        "def suggest_exercise(bmi, age, phys_hlth, ment_hlth, highbp, smoker, sex, highchol):\n",
        "    # Validate inputs to ensure they are within expected ranges\n",
        "    highbp = 1 if highbp > 0 else 0  # Assume any positive value as high blood pressure\n",
        "    smoker = 1 if smoker > 0 else 0  # Assume any positive value as a smoker\n",
        "\n",
        "    # Basic exercise suggestions based on criteria\n",
        "    if bmi < 18.5:\n",
        "        exercise = \"Consider weight-gaining exercises like resistance training to build muscle mass.\"\n",
        "    elif 18.5 <= bmi < 24.9:\n",
        "        exercise = \"Engage in regular cardiovascular exercises such as walking, jogging, or cycling.\"\n",
        "    elif 25 <= bmi < 29.9:\n",
        "        exercise = \"Incorporate moderate-intensity exercises like swimming or brisk walking into your routine.\"\n",
        "    else:  # BMI >= 30\n",
        "        exercise = \"Focus on low-impact exercises such as water aerobics or chair exercises to start.\"\n",
        "\n",
        "    if age > 60:\n",
        "        exercise += \" Also, consider gentle stretching and balance exercises to prevent falls.\"\n",
        "\n",
        "    if highbp == 1:\n",
        "        exercise += \" Monitor your heart rate during exercises, and consult with a physician for specific guidelines.\"\n",
        "\n",
        "    if smoker == 1:\n",
        "        exercise += \" It's important to quit smoking and incorporate lung-strengthening exercises like walking or yoga.\"\n",
        "\n",
        "    if highchol == 1:\n",
        "        exercise += \" Include cardiovascular exercises to help manage cholesterol levels.\"\n",
        "\n",
        "    print(\"Exercise Recommendation:\", exercise)\n",
        "\n",
        "\n"
      ],
      "metadata": {
        "id": "HiZtmeOg79Dp"
      },
      "execution_count": null,
      "outputs": []
    },
    {
      "cell_type": "markdown",
      "source": [
        "The code provides personalized health advice, with diet and exercise recommendations based on an individual's diabetic prediction and health metrics.\n",
        "\n",
        "Key Functions:\n",
        "suggest_health_advice(prediction, user_features):\n",
        "Generates dietary advice based on the diabetes prediction (1 for diabetic, 0 for non-diabetic).\n",
        "Calls suggest_exercise to provide tailored exercise tips.\n",
        "suggest_exercise(bmi, age, phys_hlth, ment_hlth, highbp, smoker, sex, highchol):\n",
        "Recommends exercise routines based on BMI, age, and health indicators (e.g., blood pressure, smoking status).\n",
        "Special cases (e.g., older age or high cholesterol) add specific advice for improved health outcomes.\n",
        "Purpose:\n",
        "This structure ensures advice is personalized to support healthier lifestyle choices aligned with an individual's health status and habits."
      ],
      "metadata": {
        "id": "_JguU-_p27_E"
      }
    },
    {
      "cell_type": "code",
      "source": [
        "# Collect user input\n",
        "user_features = get_user_input()\n",
        "\n",
        "# Prepare features for the model (this excludes height and weight)\n",
        "features_for_model = user_features[:2] + user_features[3:]  # Exclude height and weight\n",
        "\n",
        "# Make prediction\n",
        "prediction = gb_classifier.predict([features_for_model])[0]\n",
        "if prediction == 1:\n",
        "    print(\"The individual is predicted to be diabetic.\")\n",
        "else:\n",
        "    print(\"The individual is predicted to be non-diabetic.\")"
      ],
      "metadata": {
        "colab": {
          "base_uri": "https://localhost:8080/"
        },
        "id": "QqnJzWLqBOOy",
        "outputId": "7159ae02-8458-4a4a-a9d2-c440c599471f"
      },
      "execution_count": null,
      "outputs": [
        {
          "output_type": "stream",
          "name": "stdout",
          "text": [
            "Enter the value for Age: 32\n",
            "Enter your weight in kg: 60\n",
            "Enter your height in cm: 170\n",
            "Enter the value for PhysHlth (positive integer): 15\n",
            "Enter the value for MentHlth (positive integer): 16\n",
            "Enter the value for HighBP (0 or 1): 0\n",
            "Enter the value for Smoker (0 or 1): 0\n",
            "Enter the value for Fruits (0 or 1): 1\n",
            "Enter the value for Veggies (0 or 1): 1\n",
            "Enter the value for Sex (0 for Male, 1 for Female): 1\n",
            "Enter the value for HighChol (0 or 1): 0\n",
            "The individual is predicted to be non-diabetic.\n"
          ]
        },
        {
          "output_type": "stream",
          "name": "stderr",
          "text": [
            "/usr/local/lib/python3.10/dist-packages/sklearn/base.py:493: UserWarning: X does not have valid feature names, but GradientBoostingClassifier was fitted with feature names\n",
            "  warnings.warn(\n"
          ]
        }
      ]
    },
    {
      "cell_type": "markdown",
      "source": [
        "This code collects user health data, prepares it by removing height and weight (as BMI is calculated separately), and uses a pre-trained diabetes model to make a prediction. Based on the model’s output, it displays whether the user is likely diabetic or non-diabetic."
      ],
      "metadata": {
        "id": "yLVeRA3X3Y53"
      }
    },
    {
      "cell_type": "code",
      "source": [
        "# Call the combined suggestion function\n",
        "suggest_health_advice(prediction, user_features)"
      ],
      "metadata": {
        "colab": {
          "base_uri": "https://localhost:8080/"
        },
        "id": "bkStgsYU18uk",
        "outputId": "156a34cf-39cf-4d9c-9bb0-95675cac21f6"
      },
      "execution_count": null,
      "outputs": [
        {
          "output_type": "stream",
          "name": "stdout",
          "text": [
            "Diet Recommendation: Balanced diet focusing on whole foods.\n",
            "- Include more fruits and vegetables daily.\n",
            "- Watch saturated fats and add fiber-rich foods.\n",
            "Exercise Recommendation: Focus on low-impact exercises such as water aerobics or chair exercises to start. Monitor your heart rate during exercises, and consult with a physician for specific guidelines. Include cardiovascular exercises to help manage cholesterol levels.\n"
          ]
        }
      ]
    },
    {
      "cell_type": "markdown",
      "source": [
        "This line calls the suggest_health_advice function with the diabetes prediction and user’s health data as input. It provides personalized diet and exercise recommendations based on the prediction result and individual health attributes."
      ],
      "metadata": {
        "id": "hDdExhDU3gQN"
      }
    },
    {
      "cell_type": "markdown",
      "source": [
        "In conclusion, this code provides a comprehensive approach to predicting diabetes risk and offering tailored health advice. After gathering user-specific data, it uses a trained model to predict diabetes status. Based on this prediction and the user’s health metrics, it generates customized diet and exercise recommendations, helping individuals make informed lifestyle adjustments to improve or maintain their health. This model combines predictive insights with actionable guidance, making it a practical tool for health management."
      ],
      "metadata": {
        "id": "65rps20l3hfR"
      }
    }
  ]
}